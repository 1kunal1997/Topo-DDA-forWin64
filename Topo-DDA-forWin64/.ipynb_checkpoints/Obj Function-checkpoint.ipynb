{
 "cells": [
  {
   "cell_type": "code",
   "execution_count": null,
   "metadata": {},
   "outputs": [],
   "source": [
    "import os\n",
    "import numpy as np\n",
    "import cmath\n",
    "import matplotlib.pyplot as plt\n",
    "%matplotlib qt"
   ]
  },
  {
   "cell_type": "code",
   "execution_count": 22,
   "metadata": {},
   "outputs": [
    {
     "name": "stdout",
     "output_type": "stream",
     "text": [
      "10\n",
      "1.0\n",
      "in!\n"
     ]
    }
   ],
   "source": [
    "weightArray = [10]\n",
    "stepArray = [1.0]\n",
    "for i in range(1):\n",
    "    weightArray[i] = round(weightArray[i],1)\n",
    "    stepArray[i] = round(stepArray[i],1)\n",
    "    print(weightArray[i])\n",
    "    print(stepArray[i])\n",
    "\n",
    "for step in stepArray:\n",
    "    for weight in weightArray:\n",
    "        print(\"in!\")\n",
    "        plt.figure(1)\n",
    "        objectfunc = np.loadtxt(\".\\\\cylinder_it200_lam540_sym_epsilon_\" + str(step) + \"00000_weight_\" + str(weight) + \"00000\\\\convergence.txt\")\n",
    "        #objectfuncwpenalty = np.loadtxt('cylinder_it200_sym_epsilon_0.100000_weight_0.300000/convergenceWithPenalty.txt')\n",
    "        plt.plot(objectfunc, label = 'E')\n",
    "        #plt.plot(objectfuncwpenalty, label = 'E - p')\n",
    "        plt.legend(loc='lower right')\n",
    "        plt.title('Object Function Plot')\n",
    "        plt.ylabel('Object Function')\n",
    "        plt.xlabel('Iteration #')\n",
    "        #plt.yscale('symlog')\n",
    "        #plt.ylim([1, 10**(6)])\n",
    "        plt.rc('axes', titlesize=14)     # fontsize of the axes title\n",
    "        plt.rc('axes', labelsize=12)    # fontsize of the x and y labels\n",
    "        plt.savefig(\".\\\\cylinder_it200_lam540_sym_epsilon_\" + str(step) + \"00000_weight_\" + str(weight) + \"00000\\\\Object Function.png\")\n",
    "        plt.show()\n",
    "        plt.close(1)"
   ]
  },
  {
   "cell_type": "code",
   "execution_count": null,
   "metadata": {},
   "outputs": [],
   "source": []
  }
 ],
 "metadata": {
  "kernelspec": {
   "display_name": "Python 3 (ipykernel)",
   "language": "python",
   "name": "python3"
  },
  "language_info": {
   "codemirror_mode": {
    "name": "ipython",
    "version": 3
   },
   "file_extension": ".py",
   "mimetype": "text/x-python",
   "name": "python",
   "nbconvert_exporter": "python",
   "pygments_lexer": "ipython3",
   "version": "3.11.5"
  }
 },
 "nbformat": 4,
 "nbformat_minor": 4
}
